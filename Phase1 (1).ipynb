{
  "metadata": {
    "kernelspec": {
      "name": "python",
      "display_name": "Python (Pyodide)",
      "language": "python"
    },
    "language_info": {
      "codemirror_mode": {
        "name": "python",
        "version": 3
      },
      "file_extension": ".py",
      "mimetype": "text/x-python",
      "name": "python",
      "nbconvert_exporter": "python",
      "pygments_lexer": "ipython3",
      "version": "3.8"
    }
  },
  "nbformat_minor": 4,
  "nbformat": 4,
  "cells": [
    {
      "cell_type": "markdown",
      "source": "# Objective of Data Collection: \nCollecting this data aims to help predict the likelihood of heart disease in patients by analyzing key health factors like age, cholesterol levels, blood pressure, and symptoms experienced during exercise. By gathering this information, the aim is to identify individuals at risk early on, so that preventive measures and treatments can be provided promptly. This data can be used for classification to build models that assist healthcare providers in making better decisions, as well as for clustering to discover patterns and subgroups within the patient population. Ultimately, this improves patient outcomes and reduces the number of heart-related deaths. ",
      "metadata": {
        "tags": [],
        "editable": true,
        "slideshow": {
          "slide_type": ""
        }
      }
    },
    {
      "cell_type": "markdown",
      "source": "### The source of dataset:\nhttps://www.kaggle.com/code/parsalatifi/heart-failure-prediction-95-accuracy-score",
      "metadata": {}
    },
    {
      "cell_type": "code",
      "source": "import pandas as pd\ndata = pd.read_csv('/drive/IT326 project/HeartFailure.csv') \ndata.info()",
      "metadata": {
        "trusted": true,
        "scrolled": true
      },
      "outputs": [
        {
          "name": "stdout",
          "text": "<class 'pandas.core.frame.DataFrame'>\nRangeIndex: 918 entries, 0 to 917\nData columns (total 12 columns):\n #   Column          Non-Null Count  Dtype  \n---  ------          --------------  -----  \n 0   Age             918 non-null    int64  \n 1   Sex             918 non-null    object \n 2   ChestPainType   918 non-null    object \n 3   RestingBP       918 non-null    int64  \n 4   Cholesterol     918 non-null    int64  \n 5   FastingBS       918 non-null    int64  \n 6   RestingECG      918 non-null    object \n 7   MaxHR           918 non-null    int64  \n 8   ExerciseAngina  918 non-null    object \n 9   Oldpeak         918 non-null    float64\n 10  ST_Slope        918 non-null    object \n 11  HeartDisease    918 non-null    int64  \ndtypes: float64(1), int64(6), object(5)\nmemory usage: 68.2+ KB\n",
          "output_type": "stream"
        }
      ],
      "execution_count": 2
    },
    {
      "cell_type": "code",
      "source": "num_attributes = data.shape[1]  \nnum_objects = data.shape[0] \nattribute_types = data.dtypes.to_frame(name='Data Types')\nclass_name = data.columns[-1]  \nclass_label = data.columns[-1]\n\nprint(\"General information: \\n\")\nprint(f\"\\033[1mNumber of attributes:\\033[0m {num_attributes}\\n\")\nprint(f\"\\033[1mNumber of objects:\\033[0m {num_objects}\\n\")\nprint(f\"\\033[1mClass lable: \\033[0m{class_label}\\n\")\nprint(f\"\\033[1mAttribute types:\\033[0m\")\nprint(attribute_types)",
      "metadata": {
        "trusted": true
      },
      "outputs": [
        {
          "name": "stdout",
          "text": "General information: \n\n\u001b[1mNumber of attributes:\u001b[0m 12\n\n\u001b[1mNumber of objects:\u001b[0m 918\n\n\u001b[1mClass lable: \u001b[0mHeartDisease\n\n\u001b[1mAttribute types:\u001b[0m\n               Data Types\nAge                 int64\nSex                object\nChestPainType      object\nRestingBP           int64\nCholesterol         int64\nFastingBS           int64\nRestingECG         object\nMaxHR               int64\nExerciseAngina     object\nOldpeak           float64\nST_Slope           object\nHeartDisease        int64\n",
          "output_type": "stream"
        }
      ],
      "execution_count": 15
    },
    {
      "cell_type": "code",
      "source": "",
      "metadata": {
        "trusted": true
      },
      "outputs": [],
      "execution_count": null
    },
    {
      "cell_type": "code",
      "source": "",
      "metadata": {
        "trusted": true
      },
      "outputs": [],
      "execution_count": null
    }
  ]
}